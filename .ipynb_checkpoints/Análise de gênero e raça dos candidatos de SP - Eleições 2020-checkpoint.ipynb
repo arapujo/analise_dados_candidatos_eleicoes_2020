{
 "cells": [
  {
   "cell_type": "markdown",
   "metadata": {},
   "source": [
    "<center><b><h1>Análise de gênero e raça dos candidatos das Eleições 2020</h1>\n",
    "    <h3>Estados que serão analisados: São Paulo, Rio de Janeiro, Goiás, Minas Gerais e Rio Grande do Sul</h3></center>\n"
   ]
  },
  {
   "cell_type": "code",
   "execution_count": 1,
   "metadata": {},
   "outputs": [],
   "source": [
    "#Importando as bibliotecas\n",
    "import pandas as pd\n",
    "import numpy as np\n",
    "import matplotlib.pyplot as plt\n",
    "low_memory=False\n",
    "%matplotlib inline\n",
    "pd.options.display.max_columns = 80\n",
    "pd.options.display.max_rows = 90"
   ]
  },
  {
   "cell_type": "code",
   "execution_count": 2,
   "metadata": {},
   "outputs": [],
   "source": [
    "#Lendo os dados que serão analisados     \n",
    "dados_sp = pd.read_csv('database/consulta_cand_2020_SP.csv',encoding = \"ISO-8859-1\", sep=';') #SP\n",
    "dados_rj = pd.read_csv('database/consulta_cand_2020_RJ.csv',encoding = \"ISO-8859-1\", sep=';') #RJ\n",
    "dados_go = pd.read_csv('database/consulta_cand_2020_GO.csv',encoding = \"ISO-8859-1\", sep=';') #GO\n",
    "dados_mg = pd.read_csv('database/consulta_cand_2020_MG.csv',encoding = \"ISO-8859-1\", sep=';') #MG\n",
    "dados_rs = pd.read_csv('database/consulta_cand_2020_RS.csv',encoding = \"ISO-8859-1\", sep=';') #RS\n"
   ]
  },
  {
   "cell_type": "code",
   "execution_count": 3,
   "metadata": {},
   "outputs": [
    {
     "data": {
      "text/html": [
       "<div>\n",
       "<style scoped>\n",
       "    .dataframe tbody tr th:only-of-type {\n",
       "        vertical-align: middle;\n",
       "    }\n",
       "\n",
       "    .dataframe tbody tr th {\n",
       "        vertical-align: top;\n",
       "    }\n",
       "\n",
       "    .dataframe thead th {\n",
       "        text-align: right;\n",
       "    }\n",
       "</style>\n",
       "<table border=\"1\" class=\"dataframe\">\n",
       "  <thead>\n",
       "    <tr style=\"text-align: right;\">\n",
       "      <th></th>\n",
       "      <th>DT_GERACAO</th>\n",
       "      <th>HH_GERACAO</th>\n",
       "      <th>ANO_ELEICAO</th>\n",
       "      <th>CD_TIPO_ELEICAO</th>\n",
       "      <th>NM_TIPO_ELEICAO</th>\n",
       "      <th>NR_TURNO</th>\n",
       "      <th>CD_ELEICAO</th>\n",
       "      <th>DS_ELEICAO</th>\n",
       "      <th>DT_ELEICAO</th>\n",
       "      <th>TP_ABRANGENCIA</th>\n",
       "      <th>SG_UF</th>\n",
       "      <th>SG_UE</th>\n",
       "      <th>NM_UE</th>\n",
       "      <th>CD_CARGO</th>\n",
       "      <th>DS_CARGO</th>\n",
       "      <th>SQ_CANDIDATO</th>\n",
       "      <th>NR_CANDIDATO</th>\n",
       "      <th>NM_CANDIDATO</th>\n",
       "      <th>NM_URNA_CANDIDATO</th>\n",
       "      <th>NM_SOCIAL_CANDIDATO</th>\n",
       "      <th>NR_CPF_CANDIDATO</th>\n",
       "      <th>NM_EMAIL</th>\n",
       "      <th>CD_SITUACAO_CANDIDATURA</th>\n",
       "      <th>DS_SITUACAO_CANDIDATURA</th>\n",
       "      <th>CD_DETALHE_SITUACAO_CAND</th>\n",
       "      <th>DS_DETALHE_SITUACAO_CAND</th>\n",
       "      <th>TP_AGREMIACAO</th>\n",
       "      <th>NR_PARTIDO</th>\n",
       "      <th>SG_PARTIDO</th>\n",
       "      <th>NM_PARTIDO</th>\n",
       "      <th>SQ_COLIGACAO</th>\n",
       "      <th>NM_COLIGACAO</th>\n",
       "      <th>DS_COMPOSICAO_COLIGACAO</th>\n",
       "      <th>CD_NACIONALIDADE</th>\n",
       "      <th>DS_NACIONALIDADE</th>\n",
       "      <th>SG_UF_NASCIMENTO</th>\n",
       "      <th>CD_MUNICIPIO_NASCIMENTO</th>\n",
       "      <th>NM_MUNICIPIO_NASCIMENTO</th>\n",
       "      <th>DT_NASCIMENTO</th>\n",
       "      <th>NR_IDADE_DATA_POSSE</th>\n",
       "      <th>NR_TITULO_ELEITORAL_CANDIDATO</th>\n",
       "      <th>CD_GENERO</th>\n",
       "      <th>DS_GENERO</th>\n",
       "      <th>CD_GRAU_INSTRUCAO</th>\n",
       "      <th>DS_GRAU_INSTRUCAO</th>\n",
       "      <th>CD_ESTADO_CIVIL</th>\n",
       "      <th>DS_ESTADO_CIVIL</th>\n",
       "      <th>CD_COR_RACA</th>\n",
       "      <th>DS_COR_RACA</th>\n",
       "      <th>CD_OCUPACAO</th>\n",
       "      <th>DS_OCUPACAO</th>\n",
       "      <th>VR_DESPESA_MAX_CAMPANHA</th>\n",
       "      <th>CD_SIT_TOT_TURNO</th>\n",
       "      <th>DS_SIT_TOT_TURNO</th>\n",
       "      <th>ST_REELEICAO</th>\n",
       "      <th>ST_DECLARAR_BENS</th>\n",
       "      <th>NR_PROTOCOLO_CANDIDATURA</th>\n",
       "      <th>NR_PROCESSO</th>\n",
       "      <th>CD_SITUACAO_CANDIDATO_PLEITO</th>\n",
       "      <th>DS_SITUACAO_CANDIDATO_PLEITO</th>\n",
       "      <th>CD_SITUACAO_CANDIDATO_URNA</th>\n",
       "      <th>DS_SITUACAO_CANDIDATO_URNA</th>\n",
       "      <th>ST_CANDIDATO_INSERIDO_URNA</th>\n",
       "    </tr>\n",
       "  </thead>\n",
       "  <tbody>\n",
       "    <tr>\n",
       "      <th>0</th>\n",
       "      <td>08/11/2020</td>\n",
       "      <td>12:07:48</td>\n",
       "      <td>2020</td>\n",
       "      <td>2</td>\n",
       "      <td>ELEIÇÃO ORDINÁRIA</td>\n",
       "      <td>1</td>\n",
       "      <td>426</td>\n",
       "      <td>Eleições Municipais 2020</td>\n",
       "      <td>15/11/2020</td>\n",
       "      <td>MUNICIPAL</td>\n",
       "      <td>SP</td>\n",
       "      <td>61727</td>\n",
       "      <td>HORTOLÂNDIA</td>\n",
       "      <td>13</td>\n",
       "      <td>VEREADOR</td>\n",
       "      <td>250000871363</td>\n",
       "      <td>45145</td>\n",
       "      <td>LORIVAL FERREIRA DA SILVA</td>\n",
       "      <td>LORIVAL</td>\n",
       "      <td>#NULO#</td>\n",
       "      <td>5266864800</td>\n",
       "      <td>LORIABBAONG@GMAIL.COM</td>\n",
       "      <td>12</td>\n",
       "      <td>APTO</td>\n",
       "      <td>2</td>\n",
       "      <td>DEFERIDO</td>\n",
       "      <td>PARTIDO ISOLADO</td>\n",
       "      <td>45</td>\n",
       "      <td>PSDB</td>\n",
       "      <td>PARTIDO DA SOCIAL DEMOCRACIA BRASILEIRA</td>\n",
       "      <td>250000096262</td>\n",
       "      <td>PARTIDO ISOLADO</td>\n",
       "      <td>PSDB</td>\n",
       "      <td>1</td>\n",
       "      <td>BRASILEIRA NATA</td>\n",
       "      <td>SP</td>\n",
       "      <td>-3</td>\n",
       "      <td>ORIENTE</td>\n",
       "      <td>28/08/1961</td>\n",
       "      <td>59</td>\n",
       "      <td>107037470159</td>\n",
       "      <td>2</td>\n",
       "      <td>MASCULINO</td>\n",
       "      <td>4</td>\n",
       "      <td>ENSINO FUNDAMENTAL COMPLETO</td>\n",
       "      <td>3</td>\n",
       "      <td>CASADO(A)</td>\n",
       "      <td>3</td>\n",
       "      <td>PARDA</td>\n",
       "      <td>999</td>\n",
       "      <td>OUTROS</td>\n",
       "      <td>117685</td>\n",
       "      <td>-1</td>\n",
       "      <td>#NULO#</td>\n",
       "      <td>N</td>\n",
       "      <td>S</td>\n",
       "      <td>-1</td>\n",
       "      <td>6003733620206260361</td>\n",
       "      <td>-1</td>\n",
       "      <td>#NULO#</td>\n",
       "      <td>-1</td>\n",
       "      <td>#NULO#</td>\n",
       "      <td>SIM</td>\n",
       "    </tr>\n",
       "    <tr>\n",
       "      <th>1</th>\n",
       "      <td>08/11/2020</td>\n",
       "      <td>12:07:48</td>\n",
       "      <td>2020</td>\n",
       "      <td>2</td>\n",
       "      <td>ELEIÇÃO ORDINÁRIA</td>\n",
       "      <td>1</td>\n",
       "      <td>426</td>\n",
       "      <td>Eleições Municipais 2020</td>\n",
       "      <td>15/11/2020</td>\n",
       "      <td>MUNICIPAL</td>\n",
       "      <td>SP</td>\n",
       "      <td>65196</td>\n",
       "      <td>IPAUSSU</td>\n",
       "      <td>13</td>\n",
       "      <td>VEREADOR</td>\n",
       "      <td>250001142838</td>\n",
       "      <td>14261</td>\n",
       "      <td>JAIR APARECIDO ELOIS</td>\n",
       "      <td>JAIR DO CONEGO</td>\n",
       "      <td>#NULO#</td>\n",
       "      <td>21821031806</td>\n",
       "      <td>ESCRITORIO.VECCHIA@GMAIL.COM</td>\n",
       "      <td>12</td>\n",
       "      <td>APTO</td>\n",
       "      <td>2</td>\n",
       "      <td>DEFERIDO</td>\n",
       "      <td>PARTIDO ISOLADO</td>\n",
       "      <td>14</td>\n",
       "      <td>PTB</td>\n",
       "      <td>PARTIDO TRABALHISTA BRASILEIRO</td>\n",
       "      <td>250000138651</td>\n",
       "      <td>PARTIDO ISOLADO</td>\n",
       "      <td>PTB</td>\n",
       "      <td>1</td>\n",
       "      <td>BRASILEIRA NATA</td>\n",
       "      <td>PR</td>\n",
       "      <td>-3</td>\n",
       "      <td>CURIÚVA</td>\n",
       "      <td>01/06/1973</td>\n",
       "      <td>47</td>\n",
       "      <td>375470970124</td>\n",
       "      <td>2</td>\n",
       "      <td>MASCULINO</td>\n",
       "      <td>3</td>\n",
       "      <td>ENSINO FUNDAMENTAL INCOMPLETO</td>\n",
       "      <td>3</td>\n",
       "      <td>CASADO(A)</td>\n",
       "      <td>1</td>\n",
       "      <td>BRANCA</td>\n",
       "      <td>999</td>\n",
       "      <td>OUTROS</td>\n",
       "      <td>12308</td>\n",
       "      <td>-1</td>\n",
       "      <td>#NULO#</td>\n",
       "      <td>N</td>\n",
       "      <td>S</td>\n",
       "      <td>-1</td>\n",
       "      <td>6004016620206260114</td>\n",
       "      <td>-1</td>\n",
       "      <td>#NULO#</td>\n",
       "      <td>-1</td>\n",
       "      <td>#NULO#</td>\n",
       "      <td>SIM</td>\n",
       "    </tr>\n",
       "    <tr>\n",
       "      <th>2</th>\n",
       "      <td>08/11/2020</td>\n",
       "      <td>12:07:48</td>\n",
       "      <td>2020</td>\n",
       "      <td>2</td>\n",
       "      <td>ELEIÇÃO ORDINÁRIA</td>\n",
       "      <td>1</td>\n",
       "      <td>426</td>\n",
       "      <td>Eleições Municipais 2020</td>\n",
       "      <td>15/11/2020</td>\n",
       "      <td>MUNICIPAL</td>\n",
       "      <td>SP</td>\n",
       "      <td>66010</td>\n",
       "      <td>JANDIRA</td>\n",
       "      <td>13</td>\n",
       "      <td>VEREADOR</td>\n",
       "      <td>250001079861</td>\n",
       "      <td>23612</td>\n",
       "      <td>GILBERTO DE OLIVEIRA MARQUES</td>\n",
       "      <td>GILBERTO DA VIELA</td>\n",
       "      <td>#NULO#</td>\n",
       "      <td>25172059814</td>\n",
       "      <td>GILBERTODEOMARQUES@GMAIL.COM</td>\n",
       "      <td>12</td>\n",
       "      <td>APTO</td>\n",
       "      <td>2</td>\n",
       "      <td>DEFERIDO</td>\n",
       "      <td>PARTIDO ISOLADO</td>\n",
       "      <td>23</td>\n",
       "      <td>CIDADANIA</td>\n",
       "      <td>CIDADANIA</td>\n",
       "      <td>250000130687</td>\n",
       "      <td>PARTIDO ISOLADO</td>\n",
       "      <td>CIDADANIA</td>\n",
       "      <td>1</td>\n",
       "      <td>BRASILEIRA NATA</td>\n",
       "      <td>SP</td>\n",
       "      <td>-3</td>\n",
       "      <td>SÃO PAULO</td>\n",
       "      <td>25/02/1960</td>\n",
       "      <td>60</td>\n",
       "      <td>24750980116</td>\n",
       "      <td>2</td>\n",
       "      <td>MASCULINO</td>\n",
       "      <td>8</td>\n",
       "      <td>SUPERIOR COMPLETO</td>\n",
       "      <td>3</td>\n",
       "      <td>CASADO(A)</td>\n",
       "      <td>3</td>\n",
       "      <td>PARDA</td>\n",
       "      <td>257</td>\n",
       "      <td>EMPRESÁRIO</td>\n",
       "      <td>65941</td>\n",
       "      <td>-1</td>\n",
       "      <td>#NULO#</td>\n",
       "      <td>N</td>\n",
       "      <td>S</td>\n",
       "      <td>-1</td>\n",
       "      <td>6004640620206260304</td>\n",
       "      <td>-1</td>\n",
       "      <td>#NULO#</td>\n",
       "      <td>-1</td>\n",
       "      <td>#NULO#</td>\n",
       "      <td>SIM</td>\n",
       "    </tr>\n",
       "    <tr>\n",
       "      <th>3</th>\n",
       "      <td>08/11/2020</td>\n",
       "      <td>12:07:48</td>\n",
       "      <td>2020</td>\n",
       "      <td>2</td>\n",
       "      <td>ELEIÇÃO ORDINÁRIA</td>\n",
       "      <td>1</td>\n",
       "      <td>426</td>\n",
       "      <td>Eleições Municipais 2020</td>\n",
       "      <td>15/11/2020</td>\n",
       "      <td>MUNICIPAL</td>\n",
       "      <td>SP</td>\n",
       "      <td>62421</td>\n",
       "      <td>RIBEIRÃO DOS ÍNDIOS</td>\n",
       "      <td>13</td>\n",
       "      <td>VEREADOR</td>\n",
       "      <td>250001238120</td>\n",
       "      <td>40123</td>\n",
       "      <td>JOSE ADEMILSON TEIXEIRA</td>\n",
       "      <td>BILILIU</td>\n",
       "      <td>#NULO#</td>\n",
       "      <td>24741711854</td>\n",
       "      <td>ZANF.EDUARDO159@HOTMAIL.COM</td>\n",
       "      <td>12</td>\n",
       "      <td>APTO</td>\n",
       "      <td>2</td>\n",
       "      <td>DEFERIDO</td>\n",
       "      <td>PARTIDO ISOLADO</td>\n",
       "      <td>40</td>\n",
       "      <td>PSB</td>\n",
       "      <td>PARTIDO SOCIALISTA BRASILEIRO</td>\n",
       "      <td>250000153154</td>\n",
       "      <td>PARTIDO ISOLADO</td>\n",
       "      <td>PSB</td>\n",
       "      <td>1</td>\n",
       "      <td>BRASILEIRA NATA</td>\n",
       "      <td>SP</td>\n",
       "      <td>-3</td>\n",
       "      <td>RIBEIRÃO DOS ÍNDIOS</td>\n",
       "      <td>09/02/1973</td>\n",
       "      <td>47</td>\n",
       "      <td>163469360191</td>\n",
       "      <td>2</td>\n",
       "      <td>MASCULINO</td>\n",
       "      <td>4</td>\n",
       "      <td>ENSINO FUNDAMENTAL COMPLETO</td>\n",
       "      <td>1</td>\n",
       "      <td>SOLTEIRO(A)</td>\n",
       "      <td>3</td>\n",
       "      <td>PARDA</td>\n",
       "      <td>999</td>\n",
       "      <td>OUTROS</td>\n",
       "      <td>12308</td>\n",
       "      <td>-1</td>\n",
       "      <td>#NULO#</td>\n",
       "      <td>N</td>\n",
       "      <td>S</td>\n",
       "      <td>-1</td>\n",
       "      <td>6001928820206260117</td>\n",
       "      <td>-1</td>\n",
       "      <td>#NULO#</td>\n",
       "      <td>-1</td>\n",
       "      <td>#NULO#</td>\n",
       "      <td>SIM</td>\n",
       "    </tr>\n",
       "    <tr>\n",
       "      <th>4</th>\n",
       "      <td>08/11/2020</td>\n",
       "      <td>12:07:48</td>\n",
       "      <td>2020</td>\n",
       "      <td>2</td>\n",
       "      <td>ELEIÇÃO ORDINÁRIA</td>\n",
       "      <td>1</td>\n",
       "      <td>426</td>\n",
       "      <td>Eleições Municipais 2020</td>\n",
       "      <td>15/11/2020</td>\n",
       "      <td>MUNICIPAL</td>\n",
       "      <td>SP</td>\n",
       "      <td>64530</td>\n",
       "      <td>GUAPIARA</td>\n",
       "      <td>13</td>\n",
       "      <td>VEREADOR</td>\n",
       "      <td>250001095208</td>\n",
       "      <td>45111</td>\n",
       "      <td>MARCIO ROBERTO DE OLIVEIRA</td>\n",
       "      <td>MARCIO</td>\n",
       "      <td>#NULO#</td>\n",
       "      <td>12267459892</td>\n",
       "      <td>MARCIOROBERTO_PROFESSOR@HOTMAIL.COM</td>\n",
       "      <td>12</td>\n",
       "      <td>APTO</td>\n",
       "      <td>2</td>\n",
       "      <td>DEFERIDO</td>\n",
       "      <td>PARTIDO ISOLADO</td>\n",
       "      <td>45</td>\n",
       "      <td>PSDB</td>\n",
       "      <td>PARTIDO DA SOCIAL DEMOCRACIA BRASILEIRA</td>\n",
       "      <td>250000132672</td>\n",
       "      <td>PARTIDO ISOLADO</td>\n",
       "      <td>PSDB</td>\n",
       "      <td>1</td>\n",
       "      <td>BRASILEIRA NATA</td>\n",
       "      <td>SP</td>\n",
       "      <td>-3</td>\n",
       "      <td>CAPÃO BONITO</td>\n",
       "      <td>03/07/1969</td>\n",
       "      <td>51</td>\n",
       "      <td>161461950167</td>\n",
       "      <td>2</td>\n",
       "      <td>MASCULINO</td>\n",
       "      <td>8</td>\n",
       "      <td>SUPERIOR COMPLETO</td>\n",
       "      <td>3</td>\n",
       "      <td>CASADO(A)</td>\n",
       "      <td>1</td>\n",
       "      <td>BRANCA</td>\n",
       "      <td>266</td>\n",
       "      <td>PROFESSOR DE ENSINO MÉDIO</td>\n",
       "      <td>12308</td>\n",
       "      <td>-1</td>\n",
       "      <td>#NULO#</td>\n",
       "      <td>N</td>\n",
       "      <td>S</td>\n",
       "      <td>-1</td>\n",
       "      <td>6003924420206260037</td>\n",
       "      <td>-1</td>\n",
       "      <td>#NULO#</td>\n",
       "      <td>-1</td>\n",
       "      <td>#NULO#</td>\n",
       "      <td>SIM</td>\n",
       "    </tr>\n",
       "  </tbody>\n",
       "</table>\n",
       "</div>"
      ],
      "text/plain": [
       "   DT_GERACAO HH_GERACAO  ANO_ELEICAO  CD_TIPO_ELEICAO    NM_TIPO_ELEICAO  \\\n",
       "0  08/11/2020   12:07:48         2020                2  ELEIÇÃO ORDINÁRIA   \n",
       "1  08/11/2020   12:07:48         2020                2  ELEIÇÃO ORDINÁRIA   \n",
       "2  08/11/2020   12:07:48         2020                2  ELEIÇÃO ORDINÁRIA   \n",
       "3  08/11/2020   12:07:48         2020                2  ELEIÇÃO ORDINÁRIA   \n",
       "4  08/11/2020   12:07:48         2020                2  ELEIÇÃO ORDINÁRIA   \n",
       "\n",
       "   NR_TURNO  CD_ELEICAO                DS_ELEICAO  DT_ELEICAO TP_ABRANGENCIA  \\\n",
       "0         1         426  Eleições Municipais 2020  15/11/2020      MUNICIPAL   \n",
       "1         1         426  Eleições Municipais 2020  15/11/2020      MUNICIPAL   \n",
       "2         1         426  Eleições Municipais 2020  15/11/2020      MUNICIPAL   \n",
       "3         1         426  Eleições Municipais 2020  15/11/2020      MUNICIPAL   \n",
       "4         1         426  Eleições Municipais 2020  15/11/2020      MUNICIPAL   \n",
       "\n",
       "  SG_UF  SG_UE                NM_UE  CD_CARGO  DS_CARGO  SQ_CANDIDATO  \\\n",
       "0    SP  61727          HORTOLÂNDIA        13  VEREADOR  250000871363   \n",
       "1    SP  65196              IPAUSSU        13  VEREADOR  250001142838   \n",
       "2    SP  66010              JANDIRA        13  VEREADOR  250001079861   \n",
       "3    SP  62421  RIBEIRÃO DOS ÍNDIOS        13  VEREADOR  250001238120   \n",
       "4    SP  64530             GUAPIARA        13  VEREADOR  250001095208   \n",
       "\n",
       "   NR_CANDIDATO                  NM_CANDIDATO  NM_URNA_CANDIDATO  \\\n",
       "0         45145     LORIVAL FERREIRA DA SILVA            LORIVAL   \n",
       "1         14261          JAIR APARECIDO ELOIS     JAIR DO CONEGO   \n",
       "2         23612  GILBERTO DE OLIVEIRA MARQUES  GILBERTO DA VIELA   \n",
       "3         40123       JOSE ADEMILSON TEIXEIRA            BILILIU   \n",
       "4         45111    MARCIO ROBERTO DE OLIVEIRA             MARCIO   \n",
       "\n",
       "  NM_SOCIAL_CANDIDATO  NR_CPF_CANDIDATO                             NM_EMAIL  \\\n",
       "0              #NULO#        5266864800                LORIABBAONG@GMAIL.COM   \n",
       "1              #NULO#       21821031806         ESCRITORIO.VECCHIA@GMAIL.COM   \n",
       "2              #NULO#       25172059814         GILBERTODEOMARQUES@GMAIL.COM   \n",
       "3              #NULO#       24741711854          ZANF.EDUARDO159@HOTMAIL.COM   \n",
       "4              #NULO#       12267459892  MARCIOROBERTO_PROFESSOR@HOTMAIL.COM   \n",
       "\n",
       "   CD_SITUACAO_CANDIDATURA DS_SITUACAO_CANDIDATURA  CD_DETALHE_SITUACAO_CAND  \\\n",
       "0                       12                    APTO                         2   \n",
       "1                       12                    APTO                         2   \n",
       "2                       12                    APTO                         2   \n",
       "3                       12                    APTO                         2   \n",
       "4                       12                    APTO                         2   \n",
       "\n",
       "  DS_DETALHE_SITUACAO_CAND    TP_AGREMIACAO  NR_PARTIDO SG_PARTIDO  \\\n",
       "0                 DEFERIDO  PARTIDO ISOLADO          45       PSDB   \n",
       "1                 DEFERIDO  PARTIDO ISOLADO          14        PTB   \n",
       "2                 DEFERIDO  PARTIDO ISOLADO          23  CIDADANIA   \n",
       "3                 DEFERIDO  PARTIDO ISOLADO          40        PSB   \n",
       "4                 DEFERIDO  PARTIDO ISOLADO          45       PSDB   \n",
       "\n",
       "                                NM_PARTIDO  SQ_COLIGACAO     NM_COLIGACAO  \\\n",
       "0  PARTIDO DA SOCIAL DEMOCRACIA BRASILEIRA  250000096262  PARTIDO ISOLADO   \n",
       "1           PARTIDO TRABALHISTA BRASILEIRO  250000138651  PARTIDO ISOLADO   \n",
       "2                                CIDADANIA  250000130687  PARTIDO ISOLADO   \n",
       "3            PARTIDO SOCIALISTA BRASILEIRO  250000153154  PARTIDO ISOLADO   \n",
       "4  PARTIDO DA SOCIAL DEMOCRACIA BRASILEIRA  250000132672  PARTIDO ISOLADO   \n",
       "\n",
       "  DS_COMPOSICAO_COLIGACAO  CD_NACIONALIDADE DS_NACIONALIDADE SG_UF_NASCIMENTO  \\\n",
       "0                    PSDB                 1  BRASILEIRA NATA               SP   \n",
       "1                     PTB                 1  BRASILEIRA NATA               PR   \n",
       "2               CIDADANIA                 1  BRASILEIRA NATA               SP   \n",
       "3                     PSB                 1  BRASILEIRA NATA               SP   \n",
       "4                    PSDB                 1  BRASILEIRA NATA               SP   \n",
       "\n",
       "   CD_MUNICIPIO_NASCIMENTO NM_MUNICIPIO_NASCIMENTO DT_NASCIMENTO  \\\n",
       "0                       -3                 ORIENTE    28/08/1961   \n",
       "1                       -3                 CURIÚVA    01/06/1973   \n",
       "2                       -3               SÃO PAULO    25/02/1960   \n",
       "3                       -3     RIBEIRÃO DOS ÍNDIOS    09/02/1973   \n",
       "4                       -3            CAPÃO BONITO    03/07/1969   \n",
       "\n",
       "   NR_IDADE_DATA_POSSE  NR_TITULO_ELEITORAL_CANDIDATO  CD_GENERO  DS_GENERO  \\\n",
       "0                   59                   107037470159          2  MASCULINO   \n",
       "1                   47                   375470970124          2  MASCULINO   \n",
       "2                   60                    24750980116          2  MASCULINO   \n",
       "3                   47                   163469360191          2  MASCULINO   \n",
       "4                   51                   161461950167          2  MASCULINO   \n",
       "\n",
       "   CD_GRAU_INSTRUCAO              DS_GRAU_INSTRUCAO  CD_ESTADO_CIVIL  \\\n",
       "0                  4    ENSINO FUNDAMENTAL COMPLETO                3   \n",
       "1                  3  ENSINO FUNDAMENTAL INCOMPLETO                3   \n",
       "2                  8              SUPERIOR COMPLETO                3   \n",
       "3                  4    ENSINO FUNDAMENTAL COMPLETO                1   \n",
       "4                  8              SUPERIOR COMPLETO                3   \n",
       "\n",
       "  DS_ESTADO_CIVIL  CD_COR_RACA DS_COR_RACA  CD_OCUPACAO  \\\n",
       "0       CASADO(A)            3       PARDA          999   \n",
       "1       CASADO(A)            1      BRANCA          999   \n",
       "2       CASADO(A)            3       PARDA          257   \n",
       "3     SOLTEIRO(A)            3       PARDA          999   \n",
       "4       CASADO(A)            1      BRANCA          266   \n",
       "\n",
       "                 DS_OCUPACAO  VR_DESPESA_MAX_CAMPANHA  CD_SIT_TOT_TURNO  \\\n",
       "0                     OUTROS                   117685                -1   \n",
       "1                     OUTROS                    12308                -1   \n",
       "2                 EMPRESÁRIO                    65941                -1   \n",
       "3                     OUTROS                    12308                -1   \n",
       "4  PROFESSOR DE ENSINO MÉDIO                    12308                -1   \n",
       "\n",
       "  DS_SIT_TOT_TURNO ST_REELEICAO ST_DECLARAR_BENS  NR_PROTOCOLO_CANDIDATURA  \\\n",
       "0           #NULO#            N                S                        -1   \n",
       "1           #NULO#            N                S                        -1   \n",
       "2           #NULO#            N                S                        -1   \n",
       "3           #NULO#            N                S                        -1   \n",
       "4           #NULO#            N                S                        -1   \n",
       "\n",
       "           NR_PROCESSO  CD_SITUACAO_CANDIDATO_PLEITO  \\\n",
       "0  6003733620206260361                            -1   \n",
       "1  6004016620206260114                            -1   \n",
       "2  6004640620206260304                            -1   \n",
       "3  6001928820206260117                            -1   \n",
       "4  6003924420206260037                            -1   \n",
       "\n",
       "  DS_SITUACAO_CANDIDATO_PLEITO  CD_SITUACAO_CANDIDATO_URNA  \\\n",
       "0                       #NULO#                          -1   \n",
       "1                       #NULO#                          -1   \n",
       "2                       #NULO#                          -1   \n",
       "3                       #NULO#                          -1   \n",
       "4                       #NULO#                          -1   \n",
       "\n",
       "  DS_SITUACAO_CANDIDATO_URNA ST_CANDIDATO_INSERIDO_URNA  \n",
       "0                     #NULO#                        SIM  \n",
       "1                     #NULO#                        SIM  \n",
       "2                     #NULO#                        SIM  \n",
       "3                     #NULO#                        SIM  \n",
       "4                     #NULO#                        SIM  "
      ]
     },
     "execution_count": 3,
     "metadata": {},
     "output_type": "execute_result"
    }
   ],
   "source": [
    "dados_sp.head()"
   ]
  },
  {
   "cell_type": "code",
   "execution_count": 4,
   "metadata": {},
   "outputs": [],
   "source": [
    "grafico_cor = ['#F4A460', '#D2691E'] #estilização dos gráficos"
   ]
  },
  {
   "cell_type": "markdown",
   "metadata": {},
   "source": [
    "<h3><b>São Paulo</b></h3>"
   ]
  },
  {
   "cell_type": "markdown",
   "metadata": {},
   "source": [
    "<b><h4>Análise de gênero</h4><b>"
   ]
  },
  {
   "cell_type": "code",
   "execution_count": 5,
   "metadata": {},
   "outputs": [
    {
     "data": {
      "text/plain": [
       "'Total de candidatos das eleições 2020: 93697'"
      ]
     },
     "execution_count": 5,
     "metadata": {},
     "output_type": "execute_result"
    }
   ],
   "source": [
    "total_candidatos_sp = dados_sp.query('ANO_ELEICAO == 2020')['ANO_ELEICAO'].count()\n",
    "f'Total de candidatos das eleições 2020: {total_candidatos_sp}'"
   ]
  },
  {
   "cell_type": "code",
   "execution_count": 6,
   "metadata": {},
   "outputs": [
    {
     "data": {
      "text/plain": [
       "'Total de candidatos do sexo masculino: 62258'"
      ]
     },
     "execution_count": 6,
     "metadata": {},
     "output_type": "execute_result"
    }
   ],
   "source": [
    "total_masculino_sp = dados_sp.query('DS_GENERO == \"MASCULINO\" ')['DS_GENERO'].count()\n",
    "f'Total de candidatos do sexo masculino: {total_masculino_sp}'"
   ]
  },
  {
   "cell_type": "code",
   "execution_count": 7,
   "metadata": {},
   "outputs": [
    {
     "data": {
      "text/plain": [
       "'Total de candidatas do sexo feminino: 31439'"
      ]
     },
     "execution_count": 7,
     "metadata": {},
     "output_type": "execute_result"
    }
   ],
   "source": [
    "total_feminino_sp = dados_sp.query('DS_GENERO == \"FEMININO\" ')['DS_GENERO'].count()\n",
    "f'Total de candidatas do sexo feminino: {total_feminino_sp}'"
   ]
  },
  {
   "cell_type": "code",
   "execution_count": 8,
   "metadata": {},
   "outputs": [
    {
     "data": {
      "image/png": "[encoded data removed]",
      "text/plain": [
       "<Figure size 432x288 with 1 Axes>"
      ]
     },
     "metadata": {},
     "output_type": "display_data"
    }
   ],
   "source": [
    "porcentagem_feminino_sp = (total_feminino_sp / total_candidatos_sp * 100)\n",
    "porcentagem_masculino_sp = (total_masculino_sp / total_candidatos_sp * 100)\n",
    "porcentagem_sp = [porcentagem_feminino_sp, porcentagem_masculino_sp]\n",
    "labels_sp = ['Mulheres', 'Homens']\n",
    "plt.pie(porcentagem_sp, labels=labels_sp, autopct='%1.2f%%', shadow=True, colors=grafico_cor)\n",
    "plt.title('PROPORÇÃO DE GÊNERO')\n",
    "plt.show()"
   ]
  },
  {
   "cell_type": "markdown",
   "metadata": {},
   "source": [
    "<b><h5>Gráfico que mostra a proporção entre candidatos masculinos e femininos - SP</h5></b>"
   ]
  },
  {
   "cell_type": "markdown",
   "metadata": {},
   "source": [
    "<b><h4>Análise de raça<b></h4>"
   ]
  },
  {
   "cell_type": "code",
   "execution_count": 9,
   "metadata": {},
   "outputs": [
    {
     "data": {
      "text/plain": [
       "'Total de candidatos brancos: 65067'"
      ]
     },
     "execution_count": 9,
     "metadata": {},
     "output_type": "execute_result"
    }
   ],
   "source": [
    "candidatos_brancos_sp = dados_sp.query('DS_COR_RACA == \"BRANCA\"')['DS_COR_RACA'].count()\n",
    "f'Total de candidatos brancos: {candidatos_brancos_sp}'"
   ]
  },
  {
   "cell_type": "code",
   "execution_count": 10,
   "metadata": {},
   "outputs": [
    {
     "data": {
      "text/plain": [
       "'Total de candidatos pardos: 18892'"
      ]
     },
     "execution_count": 10,
     "metadata": {},
     "output_type": "execute_result"
    }
   ],
   "source": [
    "candidatos_pardos_sp = dados_sp.query('DS_COR_RACA == \"PARDA\"')['DS_COR_RACA'].count()\n",
    "f'Total de candidatos pardos: {candidatos_pardos_sp}'"
   ]
  },
  {
   "cell_type": "code",
   "execution_count": 11,
   "metadata": {},
   "outputs": [
    {
     "data": {
      "text/plain": [
       "'Total de candidatos pretos: 8703'"
      ]
     },
     "execution_count": 11,
     "metadata": {},
     "output_type": "execute_result"
    }
   ],
   "source": [
    "candidatos_pretos_sp = dados_sp.query('DS_COR_RACA == \"PRETA\"')['DS_COR_RACA'].count()\n",
    "f'Total de candidatos pretos: {candidatos_pretos_sp}'"
   ]
  },
  {
   "cell_type": "code",
   "execution_count": 12,
   "metadata": {},
   "outputs": [
    {
     "data": {
      "text/plain": [
       "'Total de candidatos amarelos: 333'"
      ]
     },
     "execution_count": 12,
     "metadata": {},
     "output_type": "execute_result"
    }
   ],
   "source": [
    "candidatos_amarelos_sp = dados_sp.query('DS_COR_RACA == \"AMARELA\"')['DS_COR_RACA'].count()\n",
    "f'Total de candidatos amarelos: {candidatos_amarelos_sp}'"
   ]
  },
  {
   "cell_type": "code",
   "execution_count": 13,
   "metadata": {},
   "outputs": [
    {
     "data": {
      "text/plain": [
       "'Total de candidatos indídenas: 73'"
      ]
     },
     "execution_count": 13,
     "metadata": {},
     "output_type": "execute_result"
    }
   ],
   "source": [
    "candidatos_indigenas_sp = dados_sp.query('DS_COR_RACA == \"INDÍGENA\"')['DS_COR_RACA'].count()\n",
    "f'Total de candidatos indídenas: {candidatos_indigenas_sp}'"
   ]
  },
  {
   "cell_type": "markdown",
   "metadata": {},
   "source": [
    "<h3><b>Rio de Janeiro</b></h3>"
   ]
  },
  {
   "cell_type": "markdown",
   "metadata": {},
   "source": [
    "<b><h4>Análise de gênero</h4><b>"
   ]
  },
  {
   "cell_type": "code",
   "execution_count": 14,
   "metadata": {},
   "outputs": [
    {
     "data": {
      "text/plain": [
       "'Total de candidatos das eleições 2020: 26475'"
      ]
     },
     "execution_count": 14,
     "metadata": {},
     "output_type": "execute_result"
    }
   ],
   "source": [
    "total_candidatos_rj = dados_rj.query('ANO_ELEICAO == 2020')['ANO_ELEICAO'].count()\n",
    "f'Total de candidatos das eleições 2020: {total_candidatos_rj}'"
   ]
  },
  {
   "cell_type": "code",
   "execution_count": 15,
   "metadata": {},
   "outputs": [
    {
     "data": {
      "text/plain": [
       "'Total de candidatos do sexo masculino: 17593'"
      ]
     },
     "execution_count": 15,
     "metadata": {},
     "output_type": "execute_result"
    }
   ],
   "source": [
    "total_masculino_rj = dados_rj.query('DS_GENERO == \"MASCULINO\" ')['DS_GENERO'].count()\n",
    "f'Total de candidatos do sexo masculino: {total_masculino_rj}'"
   ]
  },
  {
   "cell_type": "code",
   "execution_count": 16,
   "metadata": {},
   "outputs": [
    {
     "data": {
      "text/plain": [
       "'Total de candidatas do sexo feminino: 8882'"
      ]
     },
     "execution_count": 16,
     "metadata": {},
     "output_type": "execute_result"
    }
   ],
   "source": [
    "total_feminino_rj = dados_rj.query('DS_GENERO == \"FEMININO\" ')['DS_GENERO'].count()\n",
    "f'Total de candidatas do sexo feminino: {total_feminino_rj}'"
   ]
  },
  {
   "cell_type": "code",
   "execution_count": 17,
   "metadata": {},
   "outputs": [
    {
     "data": {
      "image/png": "[encoded data removed]",
      "text/plain": [
       "<Figure size 432x288 with 1 Axes>"
      ]
     },
     "metadata": {},
     "output_type": "display_data"
    }
   ],
   "source": [
    "porcentagem_feminino_rj = (total_feminino_rj / total_candidatos_rj * 100)\n",
    "porcentagem_masculino_rj = (total_masculino_rj/ total_candidatos_rj * 100)\n",
    "porcentagem_rj = [porcentagem_feminino_rj, porcentagem_masculino_rj]\n",
    "labels_rj = ['Mulheres', 'Homens']\n",
    "plt.pie(porcentagem_rj, labels=labels_rj, autopct='%1.2f%%', shadow=True,  colors=grafico_cor)\n",
    "plt.title('PROPORÇÃO DE GÊNERO')\n",
    "plt.show()"
   ]
  },
  {
   "cell_type": "markdown",
   "metadata": {},
   "source": [
    "<b><h5>Gráfico que mostra a proporção entre candidatos masculinos e femininos - GO</h5></b>"
   ]
  },
  {
   "cell_type": "markdown",
   "metadata": {},
   "source": [
    "<b><h4>Análise de raça<b></h4>"
   ]
  },
  {
   "cell_type": "code",
   "execution_count": 18,
   "metadata": {},
   "outputs": [
    {
     "data": {
      "text/plain": [
       "'Total de candidatos brancos: 13153'"
      ]
     },
     "execution_count": 18,
     "metadata": {},
     "output_type": "execute_result"
    }
   ],
   "source": [
    "candidatos_brancos_rj = dados_rj.query('DS_COR_RACA == \"BRANCA\"')['DS_COR_RACA'].count()\n",
    "f'Total de candidatos brancos: {candidatos_brancos_rj}'"
   ]
  },
  {
   "cell_type": "code",
   "execution_count": 19,
   "metadata": {},
   "outputs": [
    {
     "data": {
      "text/plain": [
       "'Total de candidatos pardos: 8098'"
      ]
     },
     "execution_count": 19,
     "metadata": {},
     "output_type": "execute_result"
    }
   ],
   "source": [
    "candidatos_pardos_rj = dados_rj.query('DS_COR_RACA == \"PARDA\"')['DS_COR_RACA'].count()\n",
    "f'Total de candidatos pardos: {candidatos_pardos_rj}'"
   ]
  },
  {
   "cell_type": "code",
   "execution_count": 20,
   "metadata": {},
   "outputs": [
    {
     "data": {
      "text/plain": [
       "'Total de candidatos pretos: 4562'"
      ]
     },
     "execution_count": 20,
     "metadata": {},
     "output_type": "execute_result"
    }
   ],
   "source": [
    "candidatos_pretos_rj = dados_rj.query('DS_COR_RACA == \"PRETA\"')['DS_COR_RACA'].count()\n",
    "f'Total de candidatos pretos: {candidatos_pretos_rj}'"
   ]
  },
  {
   "cell_type": "code",
   "execution_count": 21,
   "metadata": {},
   "outputs": [
    {
     "data": {
      "text/plain": [
       "'Total de candidatos amarelos: 53'"
      ]
     },
     "execution_count": 21,
     "metadata": {},
     "output_type": "execute_result"
    }
   ],
   "source": [
    "candidatos_amarelos_rj  = dados_rj.query('DS_COR_RACA == \"AMARELA\"')['DS_COR_RACA'].count()\n",
    "f'Total de candidatos amarelos: {candidatos_amarelos_rj}'"
   ]
  },
  {
   "cell_type": "code",
   "execution_count": 22,
   "metadata": {},
   "outputs": [
    {
     "data": {
      "text/plain": [
       "'Total de candidatos indídenas: 27'"
      ]
     },
     "execution_count": 22,
     "metadata": {},
     "output_type": "execute_result"
    }
   ],
   "source": [
    "candidatos_indigenas_rj = dados_rj.query('DS_COR_RACA == \"INDÍGENA\"')['DS_COR_RACA'].count()\n",
    "f'Total de candidatos indídenas: {candidatos_indigenas_rj}'"
   ]
  },
  {
   "cell_type": "markdown",
   "metadata": {},
   "source": [
    "<h3><b>Goiás</b></h3>"
   ]
  },
  {
   "cell_type": "markdown",
   "metadata": {},
   "source": [
    "<b><h4>Análise de gênero</h4><b>"
   ]
  },
  {
   "cell_type": "code",
   "execution_count": 23,
   "metadata": {},
   "outputs": [
    {
     "data": {
      "text/plain": [
       "'Total de candidatos das eleições 2020: 24926'"
      ]
     },
     "execution_count": 23,
     "metadata": {},
     "output_type": "execute_result"
    }
   ],
   "source": [
    "total_candidatos_go = dados_go.query('ANO_ELEICAO == 2020')['ANO_ELEICAO'].count()\n",
    "f'Total de candidatos das eleições 2020: {total_candidatos_go}'"
   ]
  },
  {
   "cell_type": "code",
   "execution_count": 24,
   "metadata": {},
   "outputs": [
    {
     "data": {
      "text/plain": [
       "'Total de candidatos do sexo masculino: 16516'"
      ]
     },
     "execution_count": 24,
     "metadata": {},
     "output_type": "execute_result"
    }
   ],
   "source": [
    "total_masculino_go = dados_go.query('DS_GENERO == \"MASCULINO\" ')['DS_GENERO'].count()\n",
    "f'Total de candidatos do sexo masculino: {total_masculino_go}'"
   ]
  },
  {
   "cell_type": "code",
   "execution_count": 25,
   "metadata": {},
   "outputs": [
    {
     "data": {
      "text/plain": [
       "'Total de candidatas do sexo feminino: 8410'"
      ]
     },
     "execution_count": 25,
     "metadata": {},
     "output_type": "execute_result"
    }
   ],
   "source": [
    "total_feminino_go = dados_go.query('DS_GENERO == \"FEMININO\" ')['DS_GENERO'].count()\n",
    "f'Total de candidatas do sexo feminino: {total_feminino_go}'"
   ]
  },
  {
   "cell_type": "code",
   "execution_count": 26,
   "metadata": {},
   "outputs": [
    {
     "data": {
      "image/png": "[encoded data removed]",
      "text/plain": [
       "<Figure size 432x288 with 1 Axes>"
      ]
     },
     "metadata": {},
     "output_type": "display_data"
    }
   ],
   "source": [
    "porcentagem_feminino_go = (total_feminino_go / total_candidatos_go * 100)\n",
    "porcentagem_masculino_go = (total_masculino_go/ total_candidatos_go * 100)\n",
    "porcentagem_go = [porcentagem_feminino_rj, porcentagem_masculino_go]\n",
    "labels_go = ['Mulheres', 'Homens']\n",
    "plt.pie(porcentagem_go, labels=labels_go, autopct='%1.2f%%', shadow=True,  colors=grafico_cor)\n",
    "plt.title('PROPORÇÃO DE GÊNERO')\n",
    "plt.show()"
   ]
  },
  {
   "cell_type": "markdown",
   "metadata": {},
   "source": [
    "<b><h5>Gráfico que mostra a proporção entre candidatos masculinos e femininos - GO</h5></b>"
   ]
  },
  {
   "cell_type": "markdown",
   "metadata": {},
   "source": [
    "<b><h4>Análise de raça<b></h4>"
   ]
  },
  {
   "cell_type": "code",
   "execution_count": 27,
   "metadata": {},
   "outputs": [
    {
     "data": {
      "text/plain": [
       "'Total de candidatos brancos: 9504'"
      ]
     },
     "execution_count": 27,
     "metadata": {},
     "output_type": "execute_result"
    }
   ],
   "source": [
    "candidatos_brancos_go = dados_go.query('DS_COR_RACA == \"BRANCA\"')['DS_COR_RACA'].count()\n",
    "f'Total de candidatos brancos: {candidatos_brancos_go}'"
   ]
  },
  {
   "cell_type": "code",
   "execution_count": 28,
   "metadata": {},
   "outputs": [
    {
     "data": {
      "text/plain": [
       "'Total de candidatos pardos: 12645'"
      ]
     },
     "execution_count": 28,
     "metadata": {},
     "output_type": "execute_result"
    }
   ],
   "source": [
    "candidatos_pardos_go = dados_go.query('DS_COR_RACA == \"PARDA\"')['DS_COR_RACA'].count()\n",
    "f'Total de candidatos pardos: {candidatos_pardos_go}'"
   ]
  },
  {
   "cell_type": "code",
   "execution_count": 29,
   "metadata": {},
   "outputs": [
    {
     "data": {
      "text/plain": [
       "'Total de candidatos pretos: 2392'"
      ]
     },
     "execution_count": 29,
     "metadata": {},
     "output_type": "execute_result"
    }
   ],
   "source": [
    "candidatos_pretos_go = dados_go.query('DS_COR_RACA == \"PRETA\"')['DS_COR_RACA'].count()\n",
    "f'Total de candidatos pretos: {candidatos_pretos_go}'"
   ]
  },
  {
   "cell_type": "code",
   "execution_count": 30,
   "metadata": {},
   "outputs": [
    {
     "data": {
      "text/plain": [
       "'Total de candidatos amarelos: 186'"
      ]
     },
     "execution_count": 30,
     "metadata": {},
     "output_type": "execute_result"
    }
   ],
   "source": [
    "candidatos_amarelos_go  = dados_go.query('DS_COR_RACA == \"AMARELA\"')['DS_COR_RACA'].count()\n",
    "f'Total de candidatos amarelos: {candidatos_amarelos_go}'"
   ]
  },
  {
   "cell_type": "code",
   "execution_count": 31,
   "metadata": {},
   "outputs": [
    {
     "data": {
      "text/plain": [
       "'Total de candidatos indídenas: 23'"
      ]
     },
     "execution_count": 31,
     "metadata": {},
     "output_type": "execute_result"
    }
   ],
   "source": [
    "candidatos_indigenas_go = dados_go.query('DS_COR_RACA == \"INDÍGENA\"')['DS_COR_RACA'].count()\n",
    "f'Total de candidatos indídenas: {candidatos_indigenas_go}'"
   ]
  },
  {
   "cell_type": "markdown",
   "metadata": {},
   "source": [
    "<h3><b>Minas Gerais</b></h3>"
   ]
  },
  {
   "cell_type": "markdown",
   "metadata": {},
   "source": [
    "<h4><b>Análise de gênero</b></h4>"
   ]
  },
  {
   "cell_type": "code",
   "execution_count": 32,
   "metadata": {},
   "outputs": [
    {
     "data": {
      "text/plain": [
       "'Total de candidatos das eleições 2020: 81687'"
      ]
     },
     "execution_count": 32,
     "metadata": {},
     "output_type": "execute_result"
    }
   ],
   "source": [
    "total_candidatos_mg = dados_mg.query('ANO_ELEICAO == 2020')['ANO_ELEICAO'].count()\n",
    "f'Total de candidatos das eleições 2020: {total_candidatos_mg}'"
   ]
  },
  {
   "cell_type": "code",
   "execution_count": 33,
   "metadata": {},
   "outputs": [
    {
     "data": {
      "text/plain": [
       "'Total de candidatos do sexo masculino: 54593'"
      ]
     },
     "execution_count": 33,
     "metadata": {},
     "output_type": "execute_result"
    }
   ],
   "source": [
    "total_masculino_mg = dados_mg.query('DS_GENERO == \"MASCULINO\" ')['DS_GENERO'].count()\n",
    "f'Total de candidatos do sexo masculino: {total_masculino_mg}'"
   ]
  },
  {
   "cell_type": "code",
   "execution_count": 34,
   "metadata": {},
   "outputs": [
    {
     "data": {
      "text/plain": [
       "'Total de candidatas do sexo feminino: 27094'"
      ]
     },
     "execution_count": 34,
     "metadata": {},
     "output_type": "execute_result"
    }
   ],
   "source": [
    "total_feminino_mg = dados_mg.query('DS_GENERO == \"FEMININO\" ')['DS_GENERO'].count()\n",
    "f'Total de candidatas do sexo feminino: {total_feminino_mg}'"
   ]
  },
  {
   "cell_type": "code",
   "execution_count": 35,
   "metadata": {},
   "outputs": [
    {
     "data": {
      "image/png": "[encoded data removed]",
      "text/plain": [
       "<Figure size 432x288 with 1 Axes>"
      ]
     },
     "metadata": {},
     "output_type": "display_data"
    }
   ],
   "source": [
    "porcentagem_feminino_mg = (total_feminino_mg / total_candidatos_mg * 100)\n",
    "porcentagem_masculino_mg = (total_masculino_mg/ total_candidatos_mg * 100)\n",
    "porcentagem_mg = [porcentagem_feminino_mg, porcentagem_masculino_mg]\n",
    "labels_mg = ['Mulheres', 'Homens']\n",
    "plt.pie(porcentagem_mg, labels=labels_mg, autopct='%1.2f%%', shadow=True,  colors=grafico_cor)\n",
    "plt.title('PROPORÇÃO DE GÊNERO')\n",
    "plt.show()"
   ]
  },
  {
   "cell_type": "markdown",
   "metadata": {},
   "source": [
    "<b><h5>Gráfico que mostra a proporção entre candidatos masculinos e femininos - MG</h5></b>"
   ]
  },
  {
   "cell_type": "markdown",
   "metadata": {},
   "source": [
    "<h4><b>Análise de raça</b></h4>"
   ]
  },
  {
   "cell_type": "code",
   "execution_count": 36,
   "metadata": {},
   "outputs": [
    {
     "data": {
      "text/plain": [
       "'Total de candidatos brancos: 38531'"
      ]
     },
     "execution_count": 36,
     "metadata": {},
     "output_type": "execute_result"
    }
   ],
   "source": [
    "candidatos_brancos_mg = dados_mg.query('DS_COR_RACA == \"BRANCA\"')['DS_COR_RACA'].count()\n",
    "f'Total de candidatos brancos: {candidatos_brancos_mg}'"
   ]
  },
  {
   "cell_type": "code",
   "execution_count": 37,
   "metadata": {},
   "outputs": [
    {
     "data": {
      "text/plain": [
       "'Total de candidatos pardos: 31248'"
      ]
     },
     "execution_count": 37,
     "metadata": {},
     "output_type": "execute_result"
    }
   ],
   "source": [
    "candidatos_pardos_mg = dados_mg.query('DS_COR_RACA == \"PARDA\"')['DS_COR_RACA'].count()\n",
    "f'Total de candidatos pardos: {candidatos_pardos_mg}'"
   ]
  },
  {
   "cell_type": "code",
   "execution_count": 38,
   "metadata": {},
   "outputs": [
    {
     "data": {
      "text/plain": [
       "'Total de candidatos pretos: 10395'"
      ]
     },
     "execution_count": 38,
     "metadata": {},
     "output_type": "execute_result"
    }
   ],
   "source": [
    "candidatos_pretos_mg = dados_mg.query('DS_COR_RACA == \"PRETA\"')['DS_COR_RACA'].count()\n",
    "f'Total de candidatos pretos: {candidatos_pretos_mg}'"
   ]
  },
  {
   "cell_type": "code",
   "execution_count": 39,
   "metadata": {},
   "outputs": [
    {
     "data": {
      "text/plain": [
       "'Total de candidatos amarelos: 273'"
      ]
     },
     "execution_count": 39,
     "metadata": {},
     "output_type": "execute_result"
    }
   ],
   "source": [
    "candidatos_amarelos_mg  = dados_mg.query('DS_COR_RACA == \"AMARELA\"')['DS_COR_RACA'].count()\n",
    "f'Total de candidatos amarelos: {candidatos_amarelos_mg}'"
   ]
  },
  {
   "cell_type": "code",
   "execution_count": 40,
   "metadata": {},
   "outputs": [
    {
     "data": {
      "text/plain": [
       "'Total de candidatos indídenas: 55'"
      ]
     },
     "execution_count": 40,
     "metadata": {},
     "output_type": "execute_result"
    }
   ],
   "source": [
    "candidatos_indigenas_mg = dados_mg.query('DS_COR_RACA == \"INDÍGENA\"')['DS_COR_RACA'].count()\n",
    "f'Total de candidatos indídenas: {candidatos_indigenas_mg}'"
   ]
  },
  {
   "cell_type": "markdown",
   "metadata": {},
   "source": [
    "<h3><b>Rio Grande do Sul</b></h3>"
   ]
  },
  {
   "cell_type": "markdown",
   "metadata": {},
   "source": [
    "<h4><b>Análise de gênero</b></h4>"
   ]
  },
  {
   "cell_type": "code",
   "execution_count": 41,
   "metadata": {},
   "outputs": [
    {
     "data": {
      "text/plain": [
       "'Total de candidatos das eleições 2020: 33544'"
      ]
     },
     "execution_count": 41,
     "metadata": {},
     "output_type": "execute_result"
    }
   ],
   "source": [
    "total_candidatos_rs = dados_rs.query('ANO_ELEICAO == 2020')['ANO_ELEICAO'].count()\n",
    "f'Total de candidatos das eleições 2020: {total_candidatos_rs}'"
   ]
  },
  {
   "cell_type": "code",
   "execution_count": 42,
   "metadata": {},
   "outputs": [
    {
     "data": {
      "text/plain": [
       "'Total de candidatos do sexo masculino: 22053'"
      ]
     },
     "execution_count": 42,
     "metadata": {},
     "output_type": "execute_result"
    }
   ],
   "source": [
    "total_masculino_rs = dados_rs.query('DS_GENERO == \"MASCULINO\" ')['DS_GENERO'].count()\n",
    "f'Total de candidatos do sexo masculino: {total_masculino_rs}'"
   ]
  },
  {
   "cell_type": "code",
   "execution_count": 43,
   "metadata": {},
   "outputs": [
    {
     "data": {
      "text/plain": [
       "'Total de candidatas do sexo feminino: 11491'"
      ]
     },
     "execution_count": 43,
     "metadata": {},
     "output_type": "execute_result"
    }
   ],
   "source": [
    "total_feminino_rs = dados_rs.query('DS_GENERO == \"FEMININO\" ')['DS_GENERO'].count()\n",
    "f'Total de candidatas do sexo feminino: {total_feminino_rs}'"
   ]
  },
  {
   "cell_type": "code",
   "execution_count": 44,
   "metadata": {},
   "outputs": [
    {
     "data": {
      "image/png": "[encoded data removed]",
      "text/plain": [
       "<Figure size 432x288 with 1 Axes>"
      ]
     },
     "metadata": {},
     "output_type": "display_data"
    }
   ],
   "source": [
    "porcentagem_feminino_rs = (total_feminino_rs / total_candidatos_rs * 100)\n",
    "porcentagem_masculino_rs = (total_masculino_rs/ total_candidatos_rs * 100)\n",
    "porcentagem_rs = [porcentagem_feminino_rs, porcentagem_masculino_rs]\n",
    "labels_rs = ['Mulheres', 'Homens']\n",
    "plt.pie(porcentagem_rs, labels=labels_rs, autopct='%1.2f%%', shadow=True,  colors=grafico_cor)\n",
    "plt.title('PROPORÇÃO DE GÊNERO')\n",
    "plt.show()"
   ]
  },
  {
   "cell_type": "markdown",
   "metadata": {},
   "source": [
    "<b><h5>Gráfico que mostra a proporção entre candidatos masculinos e femininos - RS</h5></b>"
   ]
  },
  {
   "cell_type": "code",
   "execution_count": 45,
   "metadata": {},
   "outputs": [
    {
     "data": {
      "text/plain": [
       "'Total de candidatos brancos: 29210'"
      ]
     },
     "execution_count": 45,
     "metadata": {},
     "output_type": "execute_result"
    }
   ],
   "source": [
    "candidatos_brancos_rs = dados_rs.query('DS_COR_RACA == \"BRANCA\"')['DS_COR_RACA'].count()\n",
    "f'Total de candidatos brancos: {candidatos_brancos_rs}'"
   ]
  },
  {
   "cell_type": "code",
   "execution_count": 46,
   "metadata": {},
   "outputs": [
    {
     "data": {
      "text/plain": [
       "'Total de candidatos pardos: 2036'"
      ]
     },
     "execution_count": 46,
     "metadata": {},
     "output_type": "execute_result"
    }
   ],
   "source": [
    "candidatos_pardos_rs = dados_rs.query('DS_COR_RACA == \"PARDA\"')['DS_COR_RACA'].count()\n",
    "f'Total de candidatos pardos: {candidatos_pardos_rs}'"
   ]
  },
  {
   "cell_type": "code",
   "execution_count": 47,
   "metadata": {},
   "outputs": [
    {
     "data": {
      "text/plain": [
       "'Total de candidatos pretos: 2019'"
      ]
     },
     "execution_count": 47,
     "metadata": {},
     "output_type": "execute_result"
    }
   ],
   "source": [
    "candidatos_pretos_rs  = dados_rs.query('DS_COR_RACA == \"PRETA\"')['DS_COR_RACA'].count()\n",
    "f'Total de candidatos pretos: {candidatos_pretos_rs}'"
   ]
  },
  {
   "cell_type": "code",
   "execution_count": 48,
   "metadata": {},
   "outputs": [
    {
     "data": {
      "text/plain": [
       "'Total de candidatos amarelos: 21'"
      ]
     },
     "execution_count": 48,
     "metadata": {},
     "output_type": "execute_result"
    }
   ],
   "source": [
    "candidatos_amarelos_rs  = dados_rs.query('DS_COR_RACA == \"AMARELA\"')['DS_COR_RACA'].count()\n",
    "f'Total de candidatos amarelos: {candidatos_amarelos_rs}'"
   ]
  },
  {
   "cell_type": "code",
   "execution_count": 49,
   "metadata": {},
   "outputs": [
    {
     "data": {
      "text/plain": [
       "'Total de candidatos indídenas: 133'"
      ]
     },
     "execution_count": 49,
     "metadata": {},
     "output_type": "execute_result"
    }
   ],
   "source": [
    "candidatos_indigenas_rs = dados_rs.query('DS_COR_RACA == \"INDÍGENA\"')['DS_COR_RACA'].count()\n",
    "f'Total de candidatos indídenas: {candidatos_indigenas_rs}'"
   ]
  },
  {
   "cell_type": "code",
   "execution_count": null,
   "metadata": {},
   "outputs": [],
   "source": []
  }
 ],
 "metadata": {
  "kernelspec": {
   "display_name": "Python 3",
   "language": "python",
   "name": "python3"
  },
  "language_info": {
   "codemirror_mode": {
    "name": "ipython",
    "version": 3
   },
   "file_extension": ".py",
   "mimetype": "text/x-python",
   "name": "python",
   "nbconvert_exporter": "python",
   "pygments_lexer": "ipython3",
   "version": "3.8.5"
  }
 },
 "nbformat": 4,
 "nbformat_minor": 4
}
